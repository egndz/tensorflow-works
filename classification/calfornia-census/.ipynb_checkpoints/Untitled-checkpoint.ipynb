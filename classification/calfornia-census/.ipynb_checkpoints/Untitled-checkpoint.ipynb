{
 "cells": [
  {
   "cell_type": "code",
   "execution_count": 66,
   "metadata": {},
   "outputs": [],
   "source": [
    "import pandas as pd\n",
    "import tensorflow as tf\n",
    "from sklearn.preprocessing import normalize\n",
    "from sklearn.model_selection import train_test_split\n",
    "from sklearn.metrics import classification_report\n",
    "df = pd.read_csv(\"census_data.csv\")"
   ]
  },
  {
   "cell_type": "code",
   "execution_count": 67,
   "metadata": {},
   "outputs": [
    {
     "data": {
      "text/html": [
       "<div>\n",
       "<style scoped>\n",
       "    .dataframe tbody tr th:only-of-type {\n",
       "        vertical-align: middle;\n",
       "    }\n",
       "\n",
       "    .dataframe tbody tr th {\n",
       "        vertical-align: top;\n",
       "    }\n",
       "\n",
       "    .dataframe thead th {\n",
       "        text-align: right;\n",
       "    }\n",
       "</style>\n",
       "<table border=\"1\" class=\"dataframe\">\n",
       "  <thead>\n",
       "    <tr style=\"text-align: right;\">\n",
       "      <th></th>\n",
       "      <th>age</th>\n",
       "      <th>workclass</th>\n",
       "      <th>education</th>\n",
       "      <th>education_num</th>\n",
       "      <th>marital_status</th>\n",
       "      <th>occupation</th>\n",
       "      <th>relationship</th>\n",
       "      <th>race</th>\n",
       "      <th>gender</th>\n",
       "      <th>capital_gain</th>\n",
       "      <th>capital_loss</th>\n",
       "      <th>hours_per_week</th>\n",
       "      <th>native_country</th>\n",
       "      <th>income_bracket</th>\n",
       "    </tr>\n",
       "  </thead>\n",
       "  <tbody>\n",
       "    <tr>\n",
       "      <th>0</th>\n",
       "      <td>39</td>\n",
       "      <td>State-gov</td>\n",
       "      <td>Bachelors</td>\n",
       "      <td>13</td>\n",
       "      <td>Never-married</td>\n",
       "      <td>Adm-clerical</td>\n",
       "      <td>Not-in-family</td>\n",
       "      <td>White</td>\n",
       "      <td>Male</td>\n",
       "      <td>2174</td>\n",
       "      <td>0</td>\n",
       "      <td>40</td>\n",
       "      <td>United-States</td>\n",
       "      <td>&lt;=50K</td>\n",
       "    </tr>\n",
       "    <tr>\n",
       "      <th>1</th>\n",
       "      <td>50</td>\n",
       "      <td>Self-emp-not-inc</td>\n",
       "      <td>Bachelors</td>\n",
       "      <td>13</td>\n",
       "      <td>Married-civ-spouse</td>\n",
       "      <td>Exec-managerial</td>\n",
       "      <td>Husband</td>\n",
       "      <td>White</td>\n",
       "      <td>Male</td>\n",
       "      <td>0</td>\n",
       "      <td>0</td>\n",
       "      <td>13</td>\n",
       "      <td>United-States</td>\n",
       "      <td>&lt;=50K</td>\n",
       "    </tr>\n",
       "    <tr>\n",
       "      <th>2</th>\n",
       "      <td>38</td>\n",
       "      <td>Private</td>\n",
       "      <td>HS-grad</td>\n",
       "      <td>9</td>\n",
       "      <td>Divorced</td>\n",
       "      <td>Handlers-cleaners</td>\n",
       "      <td>Not-in-family</td>\n",
       "      <td>White</td>\n",
       "      <td>Male</td>\n",
       "      <td>0</td>\n",
       "      <td>0</td>\n",
       "      <td>40</td>\n",
       "      <td>United-States</td>\n",
       "      <td>&lt;=50K</td>\n",
       "    </tr>\n",
       "    <tr>\n",
       "      <th>3</th>\n",
       "      <td>53</td>\n",
       "      <td>Private</td>\n",
       "      <td>11th</td>\n",
       "      <td>7</td>\n",
       "      <td>Married-civ-spouse</td>\n",
       "      <td>Handlers-cleaners</td>\n",
       "      <td>Husband</td>\n",
       "      <td>Black</td>\n",
       "      <td>Male</td>\n",
       "      <td>0</td>\n",
       "      <td>0</td>\n",
       "      <td>40</td>\n",
       "      <td>United-States</td>\n",
       "      <td>&lt;=50K</td>\n",
       "    </tr>\n",
       "    <tr>\n",
       "      <th>4</th>\n",
       "      <td>28</td>\n",
       "      <td>Private</td>\n",
       "      <td>Bachelors</td>\n",
       "      <td>13</td>\n",
       "      <td>Married-civ-spouse</td>\n",
       "      <td>Prof-specialty</td>\n",
       "      <td>Wife</td>\n",
       "      <td>Black</td>\n",
       "      <td>Female</td>\n",
       "      <td>0</td>\n",
       "      <td>0</td>\n",
       "      <td>40</td>\n",
       "      <td>Cuba</td>\n",
       "      <td>&lt;=50K</td>\n",
       "    </tr>\n",
       "  </tbody>\n",
       "</table>\n",
       "</div>"
      ],
      "text/plain": [
       "   age          workclass   education  education_num       marital_status  \\\n",
       "0   39          State-gov   Bachelors             13        Never-married   \n",
       "1   50   Self-emp-not-inc   Bachelors             13   Married-civ-spouse   \n",
       "2   38            Private     HS-grad              9             Divorced   \n",
       "3   53            Private        11th              7   Married-civ-spouse   \n",
       "4   28            Private   Bachelors             13   Married-civ-spouse   \n",
       "\n",
       "           occupation    relationship    race   gender  capital_gain  \\\n",
       "0        Adm-clerical   Not-in-family   White     Male          2174   \n",
       "1     Exec-managerial         Husband   White     Male             0   \n",
       "2   Handlers-cleaners   Not-in-family   White     Male             0   \n",
       "3   Handlers-cleaners         Husband   Black     Male             0   \n",
       "4      Prof-specialty            Wife   Black   Female             0   \n",
       "\n",
       "   capital_loss  hours_per_week  native_country income_bracket  \n",
       "0             0              40   United-States          <=50K  \n",
       "1             0              13   United-States          <=50K  \n",
       "2             0              40   United-States          <=50K  \n",
       "3             0              40   United-States          <=50K  \n",
       "4             0              40            Cuba          <=50K  "
      ]
     },
     "execution_count": 67,
     "metadata": {},
     "output_type": "execute_result"
    }
   ],
   "source": [
    "df.head()"
   ]
  },
  {
   "cell_type": "code",
   "execution_count": 68,
   "metadata": {},
   "outputs": [
    {
     "data": {
      "text/plain": [
       "array([' <=50K', ' >50K'], dtype=object)"
      ]
     },
     "execution_count": 68,
     "metadata": {},
     "output_type": "execute_result"
    }
   ],
   "source": [
    "df[\"income_bracket\"].unique()"
   ]
  },
  {
   "cell_type": "code",
   "execution_count": 69,
   "metadata": {},
   "outputs": [],
   "source": [
    "#income bracket will be used as label\n",
    "df[\"income_bracket\"] = [0 if income == \" <=50K\" else 1 for income in df[\"income_bracket\"]]\n"
   ]
  },
  {
   "cell_type": "code",
   "execution_count": 70,
   "metadata": {},
   "outputs": [],
   "source": [
    "#extract numerical features\n",
    "cols_to_norm = [\"age\",\"education_num\",\"capital_gain\",\"capital_loss\",\"hours_per_week\"]\n",
    "df[cols_to_norm] = normalize(df[cols_to_norm])"
   ]
  },
  {
   "cell_type": "code",
   "execution_count": 71,
   "metadata": {},
   "outputs": [],
   "source": [
    "#create function to create feature columns from numeric data\n",
    "def convert_numeric_column(column_name):\n",
    "    data = tf.feature_column.numeric_column(column_name)\n",
    "    return data\n",
    "    \n",
    "education_num_feature = convert_numeric_column(\"education_num\")\n",
    "capital_gain_feature = convert_numeric_column(\"capital_gain\")\n",
    "capital_loss_feature = convert_numeric_column(\"capital_loss\")\n",
    "hours_feature = convert_numeric_column(\"hours_per_week\")\n",
    "age = convert_numeric_column(\"age\")"
   ]
  },
  {
   "cell_type": "code",
   "execution_count": 72,
   "metadata": {},
   "outputs": [],
   "source": [
    "#create function to create feature columns from categoric data\n",
    "def convert_categoric_column(column_name,hash_bucket_size):\n",
    "    data = tf.feature_column.categorical_column_with_hash_bucket(column_name,hash_bucket_size=hash_bucket_size)\n",
    "    return data\n",
    "\n",
    "education = convert_categoric_column(\"education\",16)\n",
    "workclass = convert_categoric_column(\"workclass\",10)\n",
    "marital = convert_categoric_column(\"marital_status\",7)\n",
    "occupation = convert_categoric_column(\"occupation\",14)\n",
    "relationship = convert_categoric_column(\"relationship\",6)\n",
    "race = convert_categoric_column(\"race\",5)\n",
    "gender = convert_categoric_column(\"gender\",2)\n",
    "native_country = convert_categoric_column(\"native_country\",60)\n"
   ]
  },
  {
   "cell_type": "code",
   "execution_count": 73,
   "metadata": {},
   "outputs": [],
   "source": [
    "feature_columns = [education_num_feature,capital_gain_feature,capital_loss_feature,hours_feature,\n",
    "                  age,education,workclass,marital,occupation,relationship,race,gender,native_country]"
   ]
  },
  {
   "cell_type": "code",
   "execution_count": 74,
   "metadata": {},
   "outputs": [
    {
     "data": {
      "text/plain": [
       "[_NumericColumn(key='education_num', shape=(1,), default_value=None, dtype=tf.float32, normalizer_fn=None),\n",
       " _NumericColumn(key='capital_gain', shape=(1,), default_value=None, dtype=tf.float32, normalizer_fn=None),\n",
       " _NumericColumn(key='capital_loss', shape=(1,), default_value=None, dtype=tf.float32, normalizer_fn=None),\n",
       " _NumericColumn(key='hours_per_week', shape=(1,), default_value=None, dtype=tf.float32, normalizer_fn=None),\n",
       " _NumericColumn(key='age', shape=(1,), default_value=None, dtype=tf.float32, normalizer_fn=None),\n",
       " _HashedCategoricalColumn(key='education', hash_bucket_size=16, dtype=tf.string),\n",
       " _HashedCategoricalColumn(key='workclass', hash_bucket_size=10, dtype=tf.string),\n",
       " _HashedCategoricalColumn(key='marital_status', hash_bucket_size=7, dtype=tf.string),\n",
       " _HashedCategoricalColumn(key='occupation', hash_bucket_size=14, dtype=tf.string),\n",
       " _HashedCategoricalColumn(key='relationship', hash_bucket_size=6, dtype=tf.string),\n",
       " _HashedCategoricalColumn(key='race', hash_bucket_size=5, dtype=tf.string),\n",
       " _HashedCategoricalColumn(key='gender', hash_bucket_size=2, dtype=tf.string),\n",
       " _HashedCategoricalColumn(key='native_country', hash_bucket_size=60, dtype=tf.string)]"
      ]
     },
     "execution_count": 74,
     "metadata": {},
     "output_type": "execute_result"
    }
   ],
   "source": [
    "feature_columns"
   ]
  },
  {
   "cell_type": "code",
   "execution_count": 75,
   "metadata": {},
   "outputs": [],
   "source": [
    "#one third of the data is used as a test data\n",
    "X = df.drop(\"income_bracket\", axis = 1)\n",
    "Y = df[\"income_bracket\"]\n",
    "X_train, X_test, Y_train, Y_test = train_test_split(X,Y,test_size = 0.33, random_state = 42)"
   ]
  },
  {
   "cell_type": "code",
   "execution_count": 76,
   "metadata": {},
   "outputs": [],
   "source": [
    "#define input function\n",
    "input_function = tf.estimator.inputs.pandas_input_fn(x=X_train,\n",
    "                                                     y=Y_train,\n",
    "                                                     batch_size=5,\n",
    "                                                     num_epochs=1000,\n",
    "                                                     shuffle=True)"
   ]
  },
  {
   "cell_type": "code",
   "execution_count": 77,
   "metadata": {},
   "outputs": [
    {
     "name": "stdout",
     "output_type": "stream",
     "text": [
      "INFO:tensorflow:Using default config.\n",
      "WARNING:tensorflow:Using temporary folder as model directory: /var/folders/5q/q6__ntnx3ts0_fpp4phm75d00000gn/T/tmpx0u96n0t\n",
      "INFO:tensorflow:Using config: {'_model_dir': '/var/folders/5q/q6__ntnx3ts0_fpp4phm75d00000gn/T/tmpx0u96n0t', '_tf_random_seed': None, '_save_summary_steps': 100, '_save_checkpoints_steps': None, '_save_checkpoints_secs': 600, '_session_config': None, '_keep_checkpoint_max': 5, '_keep_checkpoint_every_n_hours': 10000, '_log_step_count_steps': 100, '_train_distribute': None, '_service': None, '_cluster_spec': <tensorflow.python.training.server_lib.ClusterSpec object at 0x1a2598e978>, '_task_type': 'worker', '_task_id': 0, '_global_id_in_cluster': 0, '_master': '', '_evaluation_master': '', '_is_chief': True, '_num_ps_replicas': 0, '_num_worker_replicas': 1}\n"
     ]
    }
   ],
   "source": [
    "#Linear Classification\n",
    "model = tf.estimator.LinearClassifier(feature_columns=feature_columns,n_classes=2)"
   ]
  },
  {
   "cell_type": "code",
   "execution_count": 78,
   "metadata": {},
   "outputs": [
    {
     "name": "stdout",
     "output_type": "stream",
     "text": [
      "INFO:tensorflow:Calling model_fn.\n",
      "INFO:tensorflow:Done calling model_fn.\n",
      "INFO:tensorflow:Create CheckpointSaverHook.\n",
      "INFO:tensorflow:Graph was finalized.\n",
      "INFO:tensorflow:Running local_init_op.\n",
      "INFO:tensorflow:Done running local_init_op.\n",
      "INFO:tensorflow:Saving checkpoints for 1 into /var/folders/5q/q6__ntnx3ts0_fpp4phm75d00000gn/T/tmpx0u96n0t/model.ckpt.\n",
      "INFO:tensorflow:loss = 3.465736, step = 1\n",
      "INFO:tensorflow:global_step/sec: 113.618\n",
      "INFO:tensorflow:loss = 1.7902493, step = 101 (0.884 sec)\n",
      "INFO:tensorflow:global_step/sec: 264.072\n",
      "INFO:tensorflow:loss = 1.7846215, step = 201 (0.376 sec)\n",
      "INFO:tensorflow:global_step/sec: 267.293\n",
      "INFO:tensorflow:loss = 2.789328, step = 301 (0.379 sec)\n",
      "INFO:tensorflow:global_step/sec: 271.537\n",
      "INFO:tensorflow:loss = 2.9357781, step = 401 (0.366 sec)\n",
      "INFO:tensorflow:global_step/sec: 323.162\n",
      "INFO:tensorflow:loss = 1.0743244, step = 501 (0.309 sec)\n",
      "INFO:tensorflow:global_step/sec: 320.368\n",
      "INFO:tensorflow:loss = 0.74770945, step = 601 (0.315 sec)\n",
      "INFO:tensorflow:global_step/sec: 279.642\n",
      "INFO:tensorflow:loss = 4.0516515, step = 701 (0.356 sec)\n",
      "INFO:tensorflow:global_step/sec: 285.584\n",
      "INFO:tensorflow:loss = 3.1196678, step = 801 (0.352 sec)\n",
      "INFO:tensorflow:global_step/sec: 336.604\n",
      "INFO:tensorflow:loss = 1.510139, step = 901 (0.293 sec)\n",
      "INFO:tensorflow:Saving checkpoints for 1000 into /var/folders/5q/q6__ntnx3ts0_fpp4phm75d00000gn/T/tmpx0u96n0t/model.ckpt.\n",
      "INFO:tensorflow:Loss for final step: 2.541491.\n"
     ]
    },
    {
     "data": {
      "text/plain": [
       "<tensorflow.python.estimator.canned.linear.LinearClassifier at 0x1a287496d8>"
      ]
     },
     "execution_count": 78,
     "metadata": {},
     "output_type": "execute_result"
    }
   ],
   "source": [
    "model.train(input_fn=input_function,steps=1000)"
   ]
  },
  {
   "cell_type": "code",
   "execution_count": 79,
   "metadata": {},
   "outputs": [],
   "source": [
    "prediction_input_func = tf.estimator.inputs.pandas_input_fn(x=X_test,\n",
    "                                                            y=Y_test,\n",
    "                                                            batch_size=5,\n",
    "                                                            num_epochs=1,\n",
    "                                                            shuffle=False)"
   ]
  },
  {
   "cell_type": "code",
   "execution_count": 80,
   "metadata": {},
   "outputs": [
    {
     "name": "stdout",
     "output_type": "stream",
     "text": [
      "INFO:tensorflow:Calling model_fn.\n",
      "INFO:tensorflow:Done calling model_fn.\n",
      "INFO:tensorflow:Graph was finalized.\n",
      "INFO:tensorflow:Restoring parameters from /var/folders/5q/q6__ntnx3ts0_fpp4phm75d00000gn/T/tmpx0u96n0t/model.ckpt-1000\n",
      "INFO:tensorflow:Running local_init_op.\n",
      "INFO:tensorflow:Done running local_init_op.\n"
     ]
    }
   ],
   "source": [
    "predictions = list(model.predict(input_fn=prediction_input_func))"
   ]
  },
  {
   "cell_type": "code",
   "execution_count": 81,
   "metadata": {},
   "outputs": [
    {
     "data": {
      "text/plain": [
       "{'logits': array([-0.20581904], dtype=float32),\n",
       " 'logistic': array([0.44872612], dtype=float32),\n",
       " 'probabilities': array([0.5512739 , 0.44872612], dtype=float32),\n",
       " 'class_ids': array([0]),\n",
       " 'classes': array([b'0'], dtype=object)}"
      ]
     },
     "execution_count": 81,
     "metadata": {},
     "output_type": "execute_result"
    }
   ],
   "source": [
    "predictions[5]"
   ]
  },
  {
   "cell_type": "code",
   "execution_count": 82,
   "metadata": {},
   "outputs": [],
   "source": [
    "final_predictions = [pred[\"class_ids\"][0] for pred in predictions]"
   ]
  },
  {
   "cell_type": "code",
   "execution_count": 83,
   "metadata": {},
   "outputs": [
    {
     "name": "stdout",
     "output_type": "stream",
     "text": [
      "              precision    recall  f1-score   support\n",
      "\n",
      "           0       0.83      0.93      0.88      8196\n",
      "           1       0.65      0.41      0.50      2550\n",
      "\n",
      "   micro avg       0.81      0.81      0.81     10746\n",
      "   macro avg       0.74      0.67      0.69     10746\n",
      "weighted avg       0.79      0.81      0.79     10746\n",
      "\n"
     ]
    }
   ],
   "source": [
    "print(classification_report(Y_test,final_predictions))"
   ]
  },
  {
   "cell_type": "code",
   "execution_count": null,
   "metadata": {},
   "outputs": [],
   "source": []
  }
 ],
 "metadata": {
  "kernelspec": {
   "display_name": "Python 3",
   "language": "python",
   "name": "python3"
  },
  "language_info": {
   "codemirror_mode": {
    "name": "ipython",
    "version": 3
   },
   "file_extension": ".py",
   "mimetype": "text/x-python",
   "name": "python",
   "nbconvert_exporter": "python",
   "pygments_lexer": "ipython3",
   "version": "3.7.1"
  }
 },
 "nbformat": 4,
 "nbformat_minor": 2
}
